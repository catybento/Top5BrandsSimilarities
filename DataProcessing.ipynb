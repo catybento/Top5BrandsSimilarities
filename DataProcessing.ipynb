{
 "cells": [
  {
   "cell_type": "markdown",
   "id": "221241f9",
   "metadata": {},
   "source": [
    "###### Initial instructions\n",
    "    Inside the folder that contains dataset images:\n",
    "        1. create folder named 'ImagensOriginais' -> originals + greyscale + padding \n",
    "        2. create folder named 'Imagens_Final' \n",
    " "
   ]
  },
  {
   "cell_type": "code",
   "execution_count": 1,
   "id": "4011576a",
   "metadata": {},
   "outputs": [],
   "source": [
    "import numpy as np\n",
    "import pandas as pd\n",
    "import io\n",
    "from PIL import Image  \n",
    "from matplotlib import pyplot as plt                                                                                                                             \n",
    "import glob\n",
    "import os\n",
    "import imageio\n",
    "import cv2"
   ]
  },
  {
   "cell_type": "markdown",
   "id": "6a9483e5",
   "metadata": {},
   "source": [
    "### READ IMAGES"
   ]
  },
  {
   "cell_type": "code",
   "execution_count": 5,
   "id": "0eb31a96",
   "metadata": {},
   "outputs": [
    {
     "data": {
      "text/plain": [
       "2000"
      ]
     },
     "execution_count": 5,
     "metadata": {},
     "output_type": "execute_result"
    }
   ],
   "source": [
    "os.chdir(r'') #insert the path of the folder with the dataset images\n",
    "filelist = glob.glob('*.jpeg')\n",
    "len(filelist)"
   ]
  },
  {
   "cell_type": "code",
   "execution_count": 7,
   "id": "68885c5f",
   "metadata": {},
   "outputs": [
    {
     "data": {
      "text/plain": [
       "2000"
      ]
     },
     "execution_count": 7,
     "metadata": {},
     "output_type": "execute_result"
    }
   ],
   "source": [
    "arr = np.array([np.array(Image.open(fname))for fname in filelist], dtype=object)\n",
    "arr.size"
   ]
  },
  {
   "cell_type": "code",
   "execution_count": 8,
   "id": "e1b6c24a",
   "metadata": {},
   "outputs": [
    {
     "name": "stdout",
     "output_type": "stream",
     "text": [
      "299\n",
      "299\n"
     ]
    }
   ],
   "source": [
    "#find max height\n",
    "heights = []\n",
    "widths = []\n",
    "for img in arr: \n",
    "    heights.append(img.shape[0])\n",
    "    widths.append(img.shape[1])\n",
    "\n",
    "maxHeight = max(heights)\n",
    "maxWidth = max(widths)\n",
    "\n",
    "#equals measures so images will be squares\n",
    "if maxHeight > maxWidth:\n",
    "    maxWidth = maxHeight\n",
    "else:\n",
    "    maxHeight = maxWidth\n",
    "   \n",
    "print(maxHeight)\n",
    "print(maxWidth)"
   ]
  },
  {
   "cell_type": "markdown",
   "id": "bf5f3fbe",
   "metadata": {},
   "source": [
    "### ORIGINALS + GRAYSCALING "
   ]
  },
  {
   "cell_type": "code",
   "execution_count": 10,
   "id": "41c37cc5",
   "metadata": {},
   "outputs": [],
   "source": [
    "for img in filelist:\n",
    "    #grayscaling\n",
    "    image = Image.open(img).convert('L')\n",
    "    \n",
    "    #save image\n",
    "    os.chdir(r'') #insert the path of the new folder ('Imagens_Final')\n",
    "    imageio.imsave(img, image)\n",
    "    os.chdir(r'') #insert the path of the folder with the dataset images"
   ]
  },
  {
   "cell_type": "markdown",
   "id": "1194a7d2",
   "metadata": {},
   "source": [
    "### STRETCHING + GRAYSCALING \n"
   ]
  },
  {
   "cell_type": "code",
   "execution_count": 9,
   "id": "4f98febf",
   "metadata": {},
   "outputs": [],
   "source": [
    "for img in filelist:   \n",
    "    title = img.split('.')[0] + '_stretch.jpeg'\n",
    "    \n",
    "    #grayscaling\n",
    "    image_gray = Image.open(img).convert('L')\n",
    "    \n",
    "    #stretching image\n",
    "    new_height = 200\n",
    "    dim_size = (new_height, np.array(image_gray).shape[1]) #new dimensions\n",
    "    image_stretch = cv2.resize(np.array(image_gray), dim_size)\n",
    "    \n",
    "    #save image \n",
    "    os.chdir(r'') #insert the path of the new folder ('Imagens_Final')\n",
    "    imageio.imsave(title ,image_stretch)\n",
    "    os.chdir(r'') #insert the path of the folder with the dataset images"
   ]
  },
  {
   "cell_type": "markdown",
   "id": "bcf484ca",
   "metadata": {},
   "source": [
    "### PADDING"
   ]
  },
  {
   "cell_type": "code",
   "execution_count": 11,
   "id": "77290911",
   "metadata": {},
   "outputs": [],
   "source": [
    "os.chdir(r'') #insert the path of the new folder ('Imagens_Final')\n",
    "filelist = glob.glob('*.jpeg')\n",
    "\n",
    "for img in filelist: \n",
    "    title = img.split('.')[0] + '_stretch.jpeg'\n",
    "\n",
    "    image = Image.open(img)\n",
    "    image_arr = np.array(image)\n",
    "    \n",
    "    #add padding\n",
    "    image = cv2.copyMakeBorder(image_arr, 0, maxHeight - image_arr.shape[0], 0, maxWidth - image_arr.shape[1], cv2.BORDER_CONSTANT, None, value = 0)\n",
    "    \n",
    "    #remove non-padding images (replacement)\n",
    "    os.remove(img)\n",
    "\n",
    "    #save padding images\n",
    "    imageio.imsave(img, image)"
   ]
  },
  {
   "cell_type": "code",
   "execution_count": 12,
   "id": "eb1b090b",
   "metadata": {},
   "outputs": [],
   "source": [
    "filelist = glob.glob('*.jpeg') \n",
    "\n",
    "#saving originals in a folder\n",
    "for img in filelist:\n",
    "    \n",
    "    if '_stretch' not in img:\n",
    "        image = Image.open(img)\n",
    "        \n",
    "        os.chdir(r'') #insert the path of the new folder ('ImagensOriginais')\n",
    "        imageio.imsave(img,image)\n",
    "        os.chdir(r'') #insert the path of the new folder ('Imagens_Final')"
   ]
  },
  {
   "cell_type": "markdown",
   "id": "a9187083",
   "metadata": {},
   "source": [
    "### ROTATION 90º"
   ]
  },
  {
   "cell_type": "code",
   "execution_count": 13,
   "id": "f5825814",
   "metadata": {},
   "outputs": [],
   "source": [
    "os.chdir(r'') #insert the path of the new folder ('ImagensOriginais')\n",
    "originals = glob.glob('*.jpeg')"
   ]
  },
  {
   "cell_type": "code",
   "execution_count": 14,
   "id": "31465708",
   "metadata": {},
   "outputs": [],
   "source": [
    "for img in originals: \n",
    "    title = img.split('.')[0] + '_rotated90.jpeg'\n",
    "\n",
    "    #rotate image\n",
    "    image_rot = Image.open(img).rotate(90)\n",
    "    \n",
    "    #save image\n",
    "    os.chdir(r'') #insert the path of the new folder ('Imagens_Final')\n",
    "    imageio.imsave(title ,image_rot)\n",
    "    os.chdir(r'') #insert the path of the new folder ('ImagensOriginais')"
   ]
  },
  {
   "cell_type": "markdown",
   "id": "3a836f1d",
   "metadata": {},
   "source": [
    "### ROTATION 45º "
   ]
  },
  {
   "cell_type": "code",
   "execution_count": 15,
   "id": "5a7b1f90",
   "metadata": {},
   "outputs": [],
   "source": [
    "for img in originals: \n",
    "    title = img.split('.')[0] + '_rotated45.jpeg'\n",
    "\n",
    "    #rotate image\n",
    "    image_rot = Image.open(img).rotate(45)\n",
    "    \n",
    "    #save image\n",
    "    os.chdir(r'') #insert the path of the new folder ('Imagens_Final')\n",
    "    imageio.imsave(title ,image_rot)\n",
    "    os.chdir(r'') #insert the path of the new folder ('ImagensOriginais')"
   ]
  },
  {
   "cell_type": "markdown",
   "id": "164198ae",
   "metadata": {},
   "source": [
    "### FLIP \n"
   ]
  },
  {
   "cell_type": "code",
   "execution_count": 16,
   "id": "414bb8a2",
   "metadata": {},
   "outputs": [],
   "source": [
    "for img in originals: \n",
    "    title = img.split('.')[0] + '_flipped.jpeg'\n",
    "    \n",
    "    #flip image\n",
    "    image_flip = Image.open(img).transpose(Image.FLIP_LEFT_RIGHT)\n",
    "    \n",
    "    #save image\n",
    "    os.chdir(r'') #insert the path of the new folder ('Imagens_Final')\n",
    "    imageio.imsave(title ,image_flip)\n",
    "    os.chdir(r'') #insert the path of the new folder ('ImagensOriginais')"
   ]
  }
 ],
 "metadata": {
  "kernelspec": {
   "display_name": "Python 3",
   "language": "python",
   "name": "python3"
  },
  "language_info": {
   "codemirror_mode": {
    "name": "ipython",
    "version": 3
   },
   "file_extension": ".py",
   "mimetype": "text/x-python",
   "name": "python",
   "nbconvert_exporter": "python",
   "pygments_lexer": "ipython3",
   "version": "3.7.10"
  }
 },
 "nbformat": 4,
 "nbformat_minor": 5
}
